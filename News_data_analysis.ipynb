{
 "cells": [
  {
   "cell_type": "markdown",
   "metadata": {
    "id": "tP6FdzZraCQS"
   },
   "source": [
    "##Objective - To perform an analysis on some categories of the News to find out how there is a shift in the sentiment over 10 years"
   ]
  },
  {
   "cell_type": "code",
   "execution_count": 2,
   "metadata": {
    "id": "FzU7667hUXz4"
   },
   "outputs": [],
   "source": [
    "import pandas as pd\n",
    "import numpy as np\n",
    "import pickle\n",
    "import torch\n",
    "from transformers import DistilBertTokenizer, DistilBertForSequenceClassification\n",
    "from torch.cuda.amp import autocast"
   ]
  },
  {
   "cell_type": "code",
   "execution_count": null,
   "metadata": {
    "id": "WC4N4PO6Y93a"
   },
   "outputs": [],
   "source": [
    "df = pd.read_json('News_data.json',lines=True)\n",
    "\n",
    "#print(df)\n",
    "df['Year'] = pd.DatetimeIndex(df['date']).year\n",
    "df['Month'] = pd.DatetimeIndex(df['date']).month"
   ]
  },
  {
   "cell_type": "code",
   "execution_count": null,
   "metadata": {
    "id": "5LE3X8ptY_m8"
   },
   "outputs": [],
   "source": [
    "df_2012 = df[df['Year']==2012]\n",
    "df_2013 = df[df['Year']==2013]\n",
    "df_2014 = df[df['Year']==2014]\n",
    "df_2015 = df[df['Year']==2015]\n",
    "df_2016 = df[df['Year']==2016]\n",
    "df_2017 = df[df['Year']==2017]\n",
    "df_2018 = df[df['Year']==2018]\n",
    "df_2019 = df[df['Year']==2019]\n",
    "df_2020 = df[df['Year']==2020]\n",
    "df_2021 = df[df['Year']==2021]\n",
    "df_2022 = df[df['Year']==2022]\n",
    "\n",
    "df_2012.to_csv('/content/News_2012.csv',index=False)\n",
    "df_2013.to_csv('/content/News_2013.csv',index=False)\n",
    "df_2014.to_csv('/content/News_2014.csv',index=False)\n",
    "df_2015.to_csv('/content/News_2015.csv',index=False)\n",
    "df_2016.to_csv('/content/News_2016.csv',index=False)\n",
    "df_2017.to_csv('/content/News_2017.csv',index=False)\n",
    "df_2018.to_csv('/content/News_2018.csv',index=False)\n",
    "df_2019.to_csv('/content/News_2019.csv',index=False)\n",
    "df_2020.to_csv('/content/News_2020.csv',index=False)\n",
    "df_2021.to_csv('/content/News_2021.csv',index=False)\n",
    "df_2022.to_csv('/content/News_2022.csv',index=False)"
   ]
  },
  {
   "cell_type": "code",
   "execution_count": 4,
   "metadata": {
    "id": "kD040aItUcgQ"
   },
   "outputs": [],
   "source": [
    "df_2012 = pd.read_csv('/content/News_2012.csv')\n",
    "df_2013 = pd.read_csv('/content/News_2013.csv')\n",
    "df_2014 = pd.read_csv('/content/News_2014.csv')\n",
    "df_2015 = pd.read_csv('/content/News_2015.csv')\n",
    "df_2016 = pd.read_csv('/content/News_2016.csv')\n",
    "df_2017 = pd.read_csv('/content/News_2017.csv')\n",
    "df_2018 = pd.read_csv('/content/News_2018.csv')\n",
    "df_2019 = pd.read_csv('/content/News_2019.csv')\n",
    "df_2020 = pd.read_csv('/content/News_2020.csv')\n",
    "df_2021 = pd.read_csv('/content/News_2021.csv')\n",
    "df_2022 = pd.read_csv('/content/News_2022.csv')"
   ]
  },
  {
   "cell_type": "code",
   "execution_count": 5,
   "metadata": {
    "id": "hSS6BsVhV-50"
   },
   "outputs": [],
   "source": [
    "df_2012.dropna(subset=['headline'],inplace=True)\n",
    "df_2013.dropna(subset=['headline'],inplace=True)\n",
    "df_2014.dropna(subset=['headline'],inplace=True)\n",
    "df_2015.dropna(subset=['headline'],inplace=True)\n",
    "df_2016.dropna(subset=['headline'],inplace=True)\n",
    "df_2017.dropna(subset=['headline'],inplace=True)\n",
    "df_2018.dropna(subset=['headline'],inplace=True)\n",
    "df_2019.dropna(subset=['headline'],inplace=True)\n",
    "df_2020.dropna(subset=['headline'],inplace=True)\n",
    "df_2021.dropna(subset=['headline'],inplace=True)\n",
    "df_2022.dropna(subset=['headline'],inplace=True)"
   ]
  },
  {
   "cell_type": "code",
   "execution_count": null,
   "metadata": {
    "colab": {
     "base_uri": "https://localhost:8080/",
     "height": 267,
     "referenced_widgets": [
      "54a9b9a5382c4512a879cc1453c5e864",
      "95df13dbd3c640fc9191efcde06b9689",
      "bc8aa17bf06d4fa7aded10d9d64612cd",
      "bc1c02caebef4fecb60f1629abfcbf08",
      "7c3a309cc43448ed8611586454876464",
      "4082a5487fa94251b28073288a04b38f",
      "ebcac56a1ad3400bbd7241351dd748c1",
      "d9bb42f06cec43e69bb46faa876b9171",
      "8f333fce57e8428998db23a08bcdd166",
      "d8bb976b9b884bc18844f92112910117",
      "76c7c534a2264217b8e2fd127baa1a22",
      "b1f112686bb8453eb471ebea1b3bf7a7",
      "55252aabce824549a96294a90ee57820",
      "9458a2cfc33a4aeaa8d97f38d6a43c76",
      "4ba235853df84cd1ba7ef91fa330ff9c",
      "9886e82a98e2424cb97d0830cfe4b831",
      "fc1d64342a2c45148315a787d06fa396",
      "04dadd1d405541fcbe967bb45a0f91b3",
      "d8201d2f161740ab985262bb8e410a34",
      "4c511093081e413d96173e9e2238754c",
      "2eca3cc426234802b23bc9b50d82cbd3",
      "36f612dff6124ad4b7f9d21e8b5b88c4",
      "7cfb08677db14d94a2e9019eff689c42",
      "bd6139695ce4417ca63f30d3ddb76700",
      "8cac199e115f4477be8649c5a68609e6",
      "dcd16c8d87e94c1c8e75b57d26a34670",
      "168594edecea4e5c8c64e32a5481560f",
      "6b0c79e3b4de491892d89fe535dfb41c",
      "57f8666102854f61a7c14868074b6bd3",
      "b72e6bb098d94455b0568677b92cb30c",
      "8e31971626664cb1835891c1a9fc5f4d",
      "4e5de4f664b9465bb4f2a71ded1496ad",
      "57e8325af16b44a7b63e811c04105f15",
      "d15e59faed8a4539b155e0ccb84d1d23",
      "8c868263e0b347208052a6e3886a729f",
      "6b424054ae8e4507968defdbfac65ff2",
      "bdadab091e5c458fbf44b9c83746a37b",
      "946a123c1ba244e2ad5a5b86ea49891f",
      "843fe1511b4f4637925436f9f886c1b6",
      "c45c3cb1cae14a869b973aeeea4458c5",
      "3b4f5402b8c44ea3bc11b16633d375fa",
      "289a0cd8cc0c4459b57517cfdac50c5b",
      "31b938a265f9464c9227fed79d60c198",
      "302f4fc3b18144de87da095c12ae9b43"
     ]
    },
    "id": "Df_85wfFYo9r",
    "outputId": "7b2099c5-49cc-4725-89b5-a5a0464cfcb8"
   },
   "outputs": [
    {
     "name": "stderr",
     "output_type": "stream",
     "text": [
      "/usr/local/lib/python3.10/dist-packages/huggingface_hub/utils/_token.py:88: UserWarning: \n",
      "The secret `HF_TOKEN` does not exist in your Colab secrets.\n",
      "To authenticate with the Hugging Face Hub, create a token in your settings tab (https://huggingface.co/settings/tokens), set it as secret in your Google Colab and restart your session.\n",
      "You will be able to reuse this secret in all of your notebooks.\n",
      "Please note that authentication is recommended but still optional to access public models or datasets.\n",
      "  warnings.warn(\n"
     ]
    },
    {
     "data": {
      "application/vnd.jupyter.widget-view+json": {
       "model_id": "54a9b9a5382c4512a879cc1453c5e864",
       "version_major": 2,
       "version_minor": 0
      },
      "text/plain": [
       "tokenizer_config.json:   0%|          | 0.00/48.0 [00:00<?, ?B/s]"
      ]
     },
     "metadata": {},
     "output_type": "display_data"
    },
    {
     "data": {
      "application/vnd.jupyter.widget-view+json": {
       "model_id": "b1f112686bb8453eb471ebea1b3bf7a7",
       "version_major": 2,
       "version_minor": 0
      },
      "text/plain": [
       "vocab.txt:   0%|          | 0.00/232k [00:00<?, ?B/s]"
      ]
     },
     "metadata": {},
     "output_type": "display_data"
    },
    {
     "data": {
      "application/vnd.jupyter.widget-view+json": {
       "model_id": "7cfb08677db14d94a2e9019eff689c42",
       "version_major": 2,
       "version_minor": 0
      },
      "text/plain": [
       "config.json:   0%|          | 0.00/629 [00:00<?, ?B/s]"
      ]
     },
     "metadata": {},
     "output_type": "display_data"
    },
    {
     "data": {
      "application/vnd.jupyter.widget-view+json": {
       "model_id": "d15e59faed8a4539b155e0ccb84d1d23",
       "version_major": 2,
       "version_minor": 0
      },
      "text/plain": [
       "model.safetensors:   0%|          | 0.00/268M [00:00<?, ?B/s]"
      ]
     },
     "metadata": {},
     "output_type": "display_data"
    },
    {
     "name": "stdout",
     "output_type": "stream",
     "text": [
      "Using device: cuda\n"
     ]
    }
   ],
   "source": [
    "tokenizer = DistilBertTokenizer.from_pretrained(\"distilbert-base-uncased-finetuned-sst-2-english\")\n",
    "model = DistilBertForSequenceClassification.from_pretrained(\"distilbert-base-uncased-finetuned-sst-2-english\")\n",
    "\n",
    "\n",
    "device = torch.device(\"cuda\" if torch.cuda.is_available() else \"cpu\")\n",
    "print(f\"Using device: {device}\")\n",
    "\n",
    "# Move the model to the specified device\n",
    "model = model.to(device)\n",
    "\n",
    "\n",
    "#Function for finding regression scores of sentiment\n",
    "\n",
    "def _extract_sentiment_score(text_list):\n",
    "    # Assuming that the max length of the headlines will not cross 40 tokens\n",
    "    sentiment_scores = []\n",
    "\n",
    "    with torch.no_grad(), autocast():\n",
    "        for text_batch in text_list:\n",
    "            inputs = tokenizer(text_batch, return_tensors=\"pt\",\n",
    "                               padding='max_length',\n",
    "                               max_length=50).to(torch.device('cuda'))\n",
    "            logits = model(**inputs).logits\n",
    "\n",
    "            # Capture the class and the regression score from the logits\n",
    "            # Class 0 means NEGATIVE and 1 means POSITIVE\n",
    "            predicted_class_reg_score = logits.max(dim=1)\n",
    "\n",
    "            # Append the class and the scores as a list of tuples\n",
    "            sentiment_scores.extend(list(zip(predicted_class_reg_score.indices.detach().cpu().numpy(),\n",
    "                                              predicted_class_reg_score.values.detach().cpu().numpy())))\n",
    "\n",
    "    return sentiment_scores\n",
    "\n",
    "\n",
    "#Convert them to positive or negative\n",
    "def adjust_regression_scores(sentiment_scores):\n",
    "    adjusted_scores = []\n",
    "    for class_label, reg_score in sentiment_scores:\n",
    "        if class_label == 0:  # Negative class\n",
    "            reg_score *= -1\n",
    "        adjusted_scores.append(reg_score)\n",
    "    return adjusted_scores\n",
    "\n",
    "#adjusted_scores = adjust_regression_scores(_extract_sentiment_score(x))\n",
    "#print(adjusted_scores)\n",
    "\n",
    "\n",
    "#test list is the text input to be provided to the function when calling it. Here x is the input text list"
   ]
  },
  {
   "cell_type": "code",
   "execution_count": null,
   "metadata": {
    "colab": {
     "base_uri": "https://localhost:8080/"
    },
    "id": "he6erfGhZBCf",
    "outputId": "d9a621ad-027e-437e-e895-a551054c7ebb"
   },
   "outputs": [
    {
     "name": "stdout",
     "output_type": "stream",
     "text": [
      "[0.19, 0.1, 0.99, 1.08, 0.75, 1.54, 0.85, -0.8, 0.23, 1.36, -0.22, 0.29, 1.44, -1.12, -0.78, 0.17, 1.69, 0.45, -1.73, 0.56, -1.22]\n",
      "Length of Category list 21\n",
      "Length of senti list 21\n"
     ]
    }
   ],
   "source": [
    "categories = df_2012['category'].unique()\n",
    "cat_senti_2012 = []\n",
    "for category in categories:\n",
    "  headlines = df_2012['headline'][df_2012['category']== category]\n",
    "  adjusted_scores = adjust_regression_scores(_extract_sentiment_score(headlines))\n",
    "  #print(round(np.average(adjusted_scores),2))\n",
    "  cat_senti_2012.append(round(np.average(adjusted_scores),2))\n",
    "\n",
    "print(cat_senti_2012)\n",
    "print(\"Length of Category list\",len(categories))\n",
    "print(\"Length of senti list\",len(cat_senti_2012))"
   ]
  },
  {
   "cell_type": "code",
   "execution_count": null,
   "metadata": {
    "colab": {
     "base_uri": "https://localhost:8080/"
    },
    "id": "3KDABH7IatSh",
    "outputId": "8a4bbe7c-7fb6-463f-b557-ff415b4ee1c8"
   },
   "outputs": [
    {
     "name": "stdout",
     "output_type": "stream",
     "text": [
      "[0.16, 0.88, 0.22, -0.36, 1.22, -0.44, 1.71, 0.64, 0.99, -1.56, 0.08, -0.38, 0.41, -1.21, -0.51, 1.13, 0.15, 1.27, 1.79, 0.27, 0.99]\n",
      "Length of Category list 21\n",
      "Length of senti list 21\n"
     ]
    }
   ],
   "source": [
    "categories = df_2013['category'].unique()\n",
    "cat_senti_2013 = []\n",
    "for category in categories:\n",
    "  headlines = df_2013['headline'][df_2013['category']== category]\n",
    "  adjusted_scores = adjust_regression_scores(_extract_sentiment_score(headlines))\n",
    "  cat_senti_2013.append(round(np.average(adjusted_scores),2))\n",
    "\n",
    "print(cat_senti_2013)\n",
    "print(\"Length of Category list\",len(categories))\n",
    "print(\"Length of senti list\",len(cat_senti_2013))"
   ]
  },
  {
   "cell_type": "code",
   "execution_count": null,
   "metadata": {
    "colab": {
     "base_uri": "https://localhost:8080/"
    },
    "id": "Dmn-MMWIe-dy",
    "outputId": "6e89c96f-550d-4cd7-c897-574e06a2be4c"
   },
   "outputs": [
    {
     "name": "stdout",
     "output_type": "stream",
     "text": [
      "WOMEN\n",
      "BUSINESS\n",
      "STYLE\n",
      "TASTE\n",
      "PARENTS\n",
      "SPORTS\n",
      "HEALTHY LIVING\n",
      "COLLEGE\n",
      "SCIENCE\n",
      "LATINO VOICES\n",
      "COMEDY\n",
      "ARTS\n",
      "WORLDPOST\n",
      "POLITICS\n",
      "ENTERTAINMENT\n",
      "FIFTY\n",
      "MEDIA\n",
      "QUEER VOICES\n",
      "GREEN\n",
      "IMPACT\n",
      "CRIME\n",
      "BLACK VOICES\n",
      "RELIGION\n",
      "GOOD NEWS\n",
      "TRAVEL\n",
      "WEIRD NEWS\n",
      "EDUCATION\n",
      "WELLNESS\n",
      "PARENTING\n",
      "HOME & LIVING\n",
      "STYLE & BEAUTY\n",
      "DIVORCE\n",
      "WEDDINGS\n",
      "FOOD & DRINK\n",
      "MONEY\n",
      "ENVIRONMENT\n",
      "TECH\n",
      "CULTURE & ARTS\n",
      "[0.28, -0.08, 1.24, 1.18, 0.36, 0.37, 0.36, 0.03, 0.25, -0.0, -0.13, 1.76, -0.52, -0.68, 0.85, 0.72, -0.86, 0.36, 0.16, 1.07, -1.92, 0.19, 0.64, 1.62, 1.58, -0.97, 0.63, 0.18, 0.17, 0.84, 1.09, -0.26, 1.33, 0.73, -1.14, -0.05, -0.42, 1.78]\n",
      "Length of Category list 38\n",
      "Length of senti list 38\n"
     ]
    }
   ],
   "source": [
    "categories = df_2014['category'].unique()\n",
    "cat_senti_2014 = []\n",
    "for category in categories:\n",
    "  headlines = df_2014['headline'][df_2014['category']== category]\n",
    "  print(category)\n",
    "  adjusted_scores = adjust_regression_scores(_extract_sentiment_score(headlines))\n",
    "  cat_senti_2014.append(round(np.average(adjusted_scores),2))\n",
    "\n",
    "print(cat_senti_2014)\n",
    "print(\"Length of Category list\",len(categories))\n",
    "print(\"Length of senti list\",len(cat_senti_2014))"
   ]
  },
  {
   "cell_type": "code",
   "execution_count": null,
   "metadata": {
    "colab": {
     "base_uri": "https://localhost:8080/"
    },
    "id": "zdl4ZGfbgneA",
    "outputId": "6db164f8-4253-4aab-b2a9-9ecc5a3f043f"
   },
   "outputs": [
    {
     "name": "stdout",
     "output_type": "stream",
     "text": [
      "[-1.93, -0.7, -0.64, -0.31, 0.68, -0.01, -0.94, 0.15, 0.29, 0.11, 0.6, -1.08, 0.4, 1.02, 0.98, 0.95, 0.64, 0.12, -0.03, -0.17, -0.96, 1.27, 0.02, 1.38, 0.96, -0.81, 1.85, 0.85, -0.35, 0.51]\n",
      "Length of Category list 30\n",
      "Length of senti list 30\n"
     ]
    }
   ],
   "source": [
    "categories = df_2015['category'].unique()\n",
    "cat_senti_2015 = []\n",
    "for category in categories:\n",
    "  headlines = df_2015['headline'][df_2015['category']== category]\n",
    "  adjusted_scores = adjust_regression_scores(_extract_sentiment_score(headlines))\n",
    "  cat_senti_2015.append(round(np.average(adjusted_scores),2))\n",
    "\n",
    "print(cat_senti_2015)\n",
    "print(\"Length of Category list\",len(categories))\n",
    "print(\"Length of senti list\",len(cat_senti_2015))"
   ]
  },
  {
   "cell_type": "code",
   "execution_count": null,
   "metadata": {
    "colab": {
     "base_uri": "https://localhost:8080/"
    },
    "id": "QvccEZXQh7Tq",
    "outputId": "070eb1ed-50e4-4e97-bbff-96f1c87dbd15"
   },
   "outputs": [
    {
     "name": "stdout",
     "output_type": "stream",
     "text": [
      "[-1.93, -0.7, -0.64, -0.31, 0.68, -0.01, -0.94, 0.15, 0.29, 0.11, 0.6, -1.08, 0.4, 1.02, 0.98, 0.95, 0.64, 0.12, -0.03, -0.17, -0.96, 1.27, 0.02, 1.38, 0.96, -0.81, 1.85, 0.85, -0.35, 0.51]\n",
      "Length of Category list 30\n",
      "Length of senti list 30\n"
     ]
    }
   ],
   "source": [
    "categories = df_2016['category'].unique()\n",
    "cat_senti_2016 = []\n",
    "for category in categories:\n",
    "  headlines = df_2016['headline'][df_2016['category']== category]\n",
    "  adjusted_scores = adjust_regression_scores(_extract_sentiment_score(headlines))\n",
    "  cat_senti_2016.append(round(np.average(adjusted_scores),2))\n",
    "\n",
    "print(cat_senti_2015)\n",
    "print(\"Length of Category list\",len(categories))\n",
    "print(\"Length of senti list\",len(cat_senti_2015))"
   ]
  },
  {
   "cell_type": "code",
   "execution_count": null,
   "metadata": {
    "colab": {
     "base_uri": "https://localhost:8080/"
    },
    "id": "wi0KgK1liTk6",
    "outputId": "0d70e4c6-95ea-46b8-a072-b84a79f0d9a6"
   },
   "outputs": [
    {
     "name": "stdout",
     "output_type": "stream",
     "text": [
      "[-0.97, -1.13, -0.07, -0.39, 0.16, 0.34, 0.36, 0.64, -0.57, -0.83, -1.02, -2.13, -0.0, -0.22, -1.53, -0.52, -1.26, 0.47, -0.01, -0.63, 0.66, 0.78, 0.62, 0.15, -0.91, 0.78, -0.85, 1.71, 0.6, 3.26, 2.67]\n",
      "Length of Category list 31\n",
      "Length of senti list 31\n"
     ]
    }
   ],
   "source": [
    "categories = df_2017['category'].unique()\n",
    "cat_senti_2017 = []\n",
    "for category in categories:\n",
    "  headlines = df_2017['headline'][df_2017['category']== category]\n",
    "  adjusted_scores = adjust_regression_scores(_extract_sentiment_score(headlines))\n",
    "  cat_senti_2017.append(round(np.average(adjusted_scores),2))\n",
    "\n",
    "print(cat_senti_2017)\n",
    "print(\"Length of Category list\",len(categories))\n",
    "print(\"Length of senti list\",len(cat_senti_2017))"
   ]
  },
  {
   "cell_type": "code",
   "execution_count": null,
   "metadata": {
    "colab": {
     "base_uri": "https://localhost:8080/"
    },
    "id": "-F9OjY2Tir5i",
    "outputId": "1b7ac7cf-3e33-497f-b000-d87168c6e995"
   },
   "outputs": [
    {
     "name": "stdout",
     "output_type": "stream",
     "text": [
      "[-1.59, -2.6, -0.97, -0.25, -1.14, -1.31, 0.21, -1.07, -2.18, 2.15, -0.8, 0.22, -0.78, -0.52, -1.63, 1.28, -0.16, -2.88, 1.72, -0.58, -0.33, 1.97, 0.19, -2.16, -2.07, 2.21, 1.37, -0.02, -0.66, 1.25, 1.43, 1.71, 0.72, -0.91, -0.38, -0.63]\n",
      "Length of Category list 36\n",
      "Length of senti list 36\n"
     ]
    }
   ],
   "source": [
    "df_2018 = pd.read_csv('/content/News_2018.csv')\n",
    "categories = df_2018['category'].unique()\n",
    "cat_senti_2018 = []\n",
    "for category in categories:\n",
    "  headlines = df_2018['headline'][df_2018['category']== category]\n",
    "  adjusted_scores = adjust_regression_scores(_extract_sentiment_score(headlines))\n",
    "  cat_senti_2018.append(round(np.average(adjusted_scores),2))\n",
    "\n",
    "print(cat_senti_2018)\n",
    "print(\"Length of Category list\",len(categories))\n",
    "print(\"Length of senti list\",len(cat_senti_2018))"
   ]
  },
  {
   "cell_type": "code",
   "execution_count": null,
   "metadata": {
    "colab": {
     "base_uri": "https://localhost:8080/"
    },
    "id": "s9QGgbrVi5AL",
    "outputId": "d2f927c4-a082-423c-fb9d-14192722eb5a"
   },
   "outputs": [
    {
     "name": "stdout",
     "output_type": "stream",
     "text": [
      "[-1.52, -1.36, -1.12, -0.51, 0.61, -0.29, -0.06, -0.32, -2.39, -0.58, 0.93, -0.78, -0.68, -0.1, -0.99, -1.95, -0.85, 0.62, -0.29, -2.65, -0.91, -0.55, -3.49, 3.17, 0.48, 1.57, -1.1, 4.3]\n",
      "Length of Category list 28\n",
      "Length of senti list 28\n"
     ]
    }
   ],
   "source": [
    "categories = df_2019['category'].unique()\n",
    "cat_senti_2019 = []\n",
    "for category in categories:\n",
    "  headlines = df_2019['headline'][df_2019['category']== category]\n",
    "  adjusted_scores = adjust_regression_scores(_extract_sentiment_score(headlines))\n",
    "  cat_senti_2019.append(round(np.average(adjusted_scores),2))\n",
    "\n",
    "print(cat_senti_2019)\n",
    "print(\"Length of Category list\",len(categories))\n",
    "print(\"Length of senti list\",len(cat_senti_2019))"
   ]
  },
  {
   "cell_type": "code",
   "execution_count": null,
   "metadata": {
    "colab": {
     "base_uri": "https://localhost:8080/"
    },
    "id": "ZwFTcQl-jYMS",
    "outputId": "714d7e7f-32e5-4707-a0be-82263c5441e0"
   },
   "outputs": [
    {
     "name": "stdout",
     "output_type": "stream",
     "text": [
      "[-1.54, 0.18, 0.02, -1.46, 0.43, 1.79, -0.02, -2.55, -2.29, -1.1, 0.61, -1.67, -0.44, 0.1, 0.66, -1.59, 1.47, 1.74, -2.03, 0.98, 0.25, -1.77, -1.8, 0.75, -2.37]\n",
      "Length of Category list 25\n",
      "Length of senti list 25\n"
     ]
    }
   ],
   "source": [
    "categories = df_2020['category'].unique()\n",
    "cat_senti_2020 = []\n",
    "for category in categories:\n",
    "  headlines = df_2020['headline'][df_2020['category']== category]\n",
    "  adjusted_scores = adjust_regression_scores(_extract_sentiment_score(headlines))\n",
    "  cat_senti_2020.append(round(np.average(adjusted_scores),2))\n",
    "\n",
    "print(cat_senti_2020)\n",
    "print(\"Length of Category list\",len(categories))\n",
    "print(\"Length of senti list\",len(cat_senti_2020))"
   ]
  },
  {
   "cell_type": "code",
   "execution_count": null,
   "metadata": {
    "colab": {
     "base_uri": "https://localhost:8080/"
    },
    "id": "nSujdEoIjpze",
    "outputId": "eb681f8f-a726-491b-8ef2-3958317ac250"
   },
   "outputs": [
    {
     "name": "stdout",
     "output_type": "stream",
     "text": [
      "[-0.08, -1.21, 1.11, 0.07, -1.23, -0.69, 0.72, -1.48, 1.2, -1.87, -1.44, -1.24, -0.24, 0.05, -0.57, 1.18, 2.13, -0.84, -0.57, -2.24, -3.57, -3.25, -0.49, -1.95, -2.64, 0.57, -2.19]\n",
      "Length of Category list 27\n",
      "Length of senti list 27\n"
     ]
    }
   ],
   "source": [
    "categories = df_2021['category'].unique()\n",
    "cat_senti_2021 = []\n",
    "for category in categories:\n",
    "  headlines = df_2021['headline'][df_2021['category']== category]\n",
    "  adjusted_scores = adjust_regression_scores(_extract_sentiment_score(headlines))\n",
    "  cat_senti_2021.append(round(np.average(adjusted_scores),2))\n",
    "\n",
    "print(cat_senti_2021)\n",
    "print(\"Length of Category list\",len(categories))\n",
    "print(\"Length of senti list\",len(cat_senti_2021))"
   ]
  },
  {
   "cell_type": "code",
   "execution_count": null,
   "metadata": {
    "colab": {
     "base_uri": "https://localhost:8080/"
    },
    "id": "dCdhMw_JjrdG",
    "outputId": "c578c255-a2a9-4bad-c656-213fce539a1a"
   },
   "outputs": [
    {
     "name": "stdout",
     "output_type": "stream",
     "text": [
      "[-1.27, 0.58, 0.77, -1.04, 0.9, -3.18, -0.16, -0.1, -1.25, 0.2, -1.37, 0.55, -2.1, -0.36, -1.5, -2.18, -0.56, 0.3, 1.02, 0.99, 2.72, 3.54, 2.46, 0.92]\n",
      "Length of Category list 24\n",
      "Length of senti list 24\n"
     ]
    }
   ],
   "source": [
    "categories = df_2022['category'].unique()\n",
    "cat_senti_2022 = []\n",
    "for category in categories:\n",
    "  headlines = df_2022['headline'][df_2022['category']== category]\n",
    "  adjusted_scores = adjust_regression_scores(_extract_sentiment_score(headlines))\n",
    "  cat_senti_2022.append(round(np.average(adjusted_scores),2))\n",
    "\n",
    "print(cat_senti_2022)\n",
    "print(\"Length of Category list\",len(categories))\n",
    "print(\"Length of senti list\",len(cat_senti_2022))"
   ]
  },
  {
   "cell_type": "code",
   "execution_count": null,
   "metadata": {
    "id": "U7kMJZxmm-ZA"
   },
   "outputs": [],
   "source": [
    "complete_senti = [cat_senti_2012,cat_senti_2013,cat_senti_2014,cat_senti_2015,cat_senti_2016,cat_senti_2017,cat_senti_2018,cat_senti_2019,cat_senti_2020,cat_senti_2021,cat_senti_2022]"
   ]
  },
  {
   "cell_type": "code",
   "execution_count": null,
   "metadata": {
    "id": "gJvYIjnJnmcu"
   },
   "outputs": [],
   "source": [
    "file_path = 'senti.pickle'\n",
    "with open(file_path,'wb') as f:\n",
    "  pickle.dump(complete_senti,f)"
   ]
  },
  {
   "cell_type": "code",
   "execution_count": 3,
   "metadata": {
    "colab": {
     "base_uri": "https://localhost:8080/"
    },
    "id": "TBMixsZRn9Xa",
    "outputId": "f088427a-b9b0-4e85-f610-353d9b935ef8"
   },
   "outputs": [
    {
     "name": "stdout",
     "output_type": "stream",
     "text": [
      "[[0.19, 0.1, 0.99, 1.08, 0.75, 1.54, 0.85, -0.8, 0.23, 1.36, -0.22, 0.29, 1.44, -1.12, -0.78, 0.17, 1.69, 0.45, -1.73, 0.56, -1.22], [0.16, 0.88, 0.22, -0.36, 1.22, -0.44, 1.71, 0.64, 0.99, -1.56, 0.08, -0.38, 0.41, -1.21, -0.51, 1.13, 0.15, 1.27, 1.79, 0.27, 0.99], [0.28, -0.08, 1.24, 1.18, 0.36, 0.37, 0.36, 0.03, 0.25, -0.0, -0.13, 1.76, -0.52, -0.68, 0.85, 0.72, -0.86, 0.36, 0.16, 1.07, -1.92, 0.19, 0.64, 1.62, 1.58, -0.97, 0.63, 0.18, 0.17, 0.84, 1.09, -0.26, 1.33, 0.73, -1.14, -0.05, -0.42, 1.78], [-1.93, -0.7, -0.64, -0.31, 0.68, -0.01, -0.94, 0.15, 0.29, 0.11, 0.6, -1.08, 0.4, 1.02, 0.98, 0.95, 0.64, 0.12, -0.03, -0.17, -0.96, 1.27, 0.02, 1.38, 0.96, -0.81, 1.85, 0.85, -0.35, 0.51], [-0.86, 0.36, -1.29, -1.07, -0.65, 0.25, -1.21, 0.83, 0.59, 0.23, -0.36, 1.2, 1.01, -1.38, 0.58, -0.87, 0.92, 0.18, -0.25, -0.33, 0.62, -0.8, 1.03, -0.09, -2.15, 0.3, 1.07, 1.73, 0.09, 0.38], [-0.97, -1.13, -0.07, -0.39, 0.16, 0.34, 0.36, 0.64, -0.57, -0.83, -1.02, -2.13, -0.0, -0.22, -1.53, -0.52, -1.26, 0.47, -0.01, -0.63, 0.66, 0.78, 0.62, 0.15, -0.91, 0.78, -0.85, 1.71, 0.6, 3.26, 2.67], [-1.59, -2.6, -0.97, -0.25, -1.14, -1.31, 0.21, -1.07, -2.18, 2.15, -0.8, 0.22, -0.78, -0.52, -1.63, 1.28, -0.16, -2.88, 1.72, -0.58, -0.33, 1.97, 0.19, -2.16, -2.07, 2.21, 1.37, -0.02, -0.66, 1.25, 1.43, 1.71, 0.72, -0.91, -0.38, -0.63], [-1.52, -1.36, -1.12, -0.51, 0.61, -0.29, -0.06, -0.32, -2.39, -0.58, 0.93, -0.78, -0.68, -0.1, -0.99, -1.95, -0.85, 0.62, -0.29, -2.65, -0.91, -0.55, -3.49, 3.17, 0.48, 1.57, -1.1, 4.3], [-1.54, 0.18, 0.02, -1.46, 0.43, 1.79, -0.02, -2.55, -2.29, -1.1, 0.61, -1.67, -0.44, 0.1, 0.66, -1.59, 1.47, 1.74, -2.03, 0.98, 0.25, -1.77, -1.8, 0.75, -2.37], [-0.08, -1.21, 1.11, 0.07, -1.23, -0.69, 0.72, -1.48, 1.2, -1.87, -1.44, -1.24, -0.24, 0.05, -0.57, 1.18, 2.13, -0.84, -0.57, -2.24, -3.57, -3.25, -0.49, -1.95, -2.64, 0.57, -2.19], [-1.27, 0.58, 0.77, -1.04, 0.9, -3.18, -0.16, -0.1, -1.25, 0.2, -1.37, 0.55, -2.1, -0.36, -1.5, -2.18, -0.56, 0.3, 1.02, 0.99, 2.72, 3.54, 2.46, 0.92]]\n"
     ]
    }
   ],
   "source": [
    "with open('/content/senti.pickle','rb') as f:\n",
    "  complete_senti = pickle.load(f)\n",
    "\n",
    "print(complete_senti)"
   ]
  },
  {
   "cell_type": "code",
   "execution_count": 6,
   "metadata": {
    "id": "lcKF9wulDKiL"
   },
   "outputs": [],
   "source": [
    "cat_2012 = df_2012['category'].unique().tolist()\n",
    "cat_2013 = df_2013['category'].unique().tolist()\n",
    "cat_2014 = df_2014['category'].unique().tolist()\n",
    "cat_2015 = df_2015['category'].unique().tolist()\n",
    "cat_2016 = df_2016['category'].unique().tolist()\n",
    "cat_2017 = df_2017['category'].unique().tolist()\n",
    "cat_2018 = df_2018['category'].unique().tolist()\n",
    "cat_2019 = df_2019['category'].unique().tolist()\n",
    "cat_2020 = df_2020['category'].unique().tolist()\n",
    "cat_2021 = df_2021['category'].unique().tolist()\n",
    "cat_2022 = df_2022['category'].unique().tolist()"
   ]
  },
  {
   "cell_type": "code",
   "execution_count": 8,
   "metadata": {
    "colab": {
     "base_uri": "https://localhost:8080/"
    },
    "id": "y163ZMI7ZV6H",
    "outputId": "e6fc7a39-5103-4e66-ea50-a5ddb1f0d79c"
   },
   "outputs": [
    {
     "name": "stdout",
     "output_type": "stream",
     "text": [
      "{'QUEER VOICES', 'CRIME', 'BUSINESS', 'TRAVEL', 'SPORTS', 'COMEDY', 'BLACK VOICES', 'ENTERTAINMENT', 'SCIENCE'}\n"
     ]
    }
   ],
   "source": [
    "common_elements = set(cat_2012).intersection(cat_2013,cat_2014,cat_2015,cat_2016,cat_2017,cat_2018,cat_2019,cat_2020,cat_2021,cat_2022)\n",
    "print(common_elements)"
   ]
  },
  {
   "cell_type": "code",
   "execution_count": 9,
   "metadata": {
    "id": "9rn9QOq7ZZsX"
   },
   "outputs": [],
   "source": [
    "for i in common_elements:\n",
    "    locals()[f\"{i}\"] = [l.index(i) if i in l else None for l in [cat_2013,cat_2013,cat_2014,cat_2015,cat_2016,cat_2017,cat_2018,cat_2019,cat_2020,cat_2021,cat_2022]]"
   ]
  },
  {
   "cell_type": "code",
   "execution_count": 10,
   "metadata": {
    "id": "McARacf7ZaLE"
   },
   "outputs": [],
   "source": [
    "Entertainment = []\n",
    "for i,j in zip(complete_senti,ENTERTAINMENT):\n",
    "    Entertainment.append(i[j])"
   ]
  },
  {
   "cell_type": "code",
   "execution_count": 11,
   "metadata": {
    "id": "pYS9G-QbZcuZ"
   },
   "outputs": [],
   "source": [
    "Science = []\n",
    "for i,j in zip(complete_senti,SCIENCE):\n",
    "    Science.append(i[j])"
   ]
  },
  {
   "cell_type": "code",
   "execution_count": 12,
   "metadata": {
    "id": "Beb3z3WKZg7l"
   },
   "outputs": [],
   "source": [
    "Crime = []\n",
    "for i,j in zip(complete_senti,CRIME):\n",
    "    Crime.append(i[j])"
   ]
  },
  {
   "cell_type": "code",
   "execution_count": 13,
   "metadata": {
    "id": "iGjEIHe3ZiQt"
   },
   "outputs": [],
   "source": [
    "Business = []\n",
    "for i,j in zip(complete_senti,BUSINESS):\n",
    "    Business.append(i[j])"
   ]
  },
  {
   "cell_type": "code",
   "execution_count": 14,
   "metadata": {
    "id": "cbeI3623ZkIK"
   },
   "outputs": [],
   "source": [
    "Sports = []\n",
    "for i,j in zip(complete_senti,SPORTS):\n",
    "    Sports.append(i[j])"
   ]
  },
  {
   "cell_type": "code",
   "execution_count": 15,
   "metadata": {
    "id": "agNH6NZMZlZe"
   },
   "outputs": [],
   "source": [
    "Travel = []\n",
    "for i,j in zip(complete_senti,TRAVEL):\n",
    "    Travel.append(i[j])"
   ]
  },
  {
   "cell_type": "code",
   "execution_count": 16,
   "metadata": {
    "id": "I0Po0eYvZm1p"
   },
   "outputs": [],
   "source": [
    "Comedy = []\n",
    "for i,j in zip(complete_senti,COMEDY):\n",
    "    Comedy.append(i[j])"
   ]
  },
  {
   "cell_type": "code",
   "execution_count": null,
   "metadata": {
    "id": "WfnwMFpfZog4"
   },
   "outputs": [],
   "source": [
    "df = pd.read_json('/content/News_data.json',lines=True)\n",
    "df['Year'] = pd.DatetimeIndex(df['date']).year\n",
    "df['Month'] = pd.DatetimeIndex(df['date']).month\n",
    "df.to_csv('/content/News_data.csv',index=False)"
   ]
  },
  {
   "cell_type": "code",
   "execution_count": null,
   "metadata": {
    "id": "BzIpeM0xZvFU"
   },
   "outputs": [],
   "source": [
    "Years = df['Year'].unique().tolist()\n",
    "Years"
   ]
  },
  {
   "cell_type": "code",
   "execution_count": null,
   "metadata": {
    "id": "Jg0Nuab3ZvwQ"
   },
   "outputs": [],
   "source": [
    "Years = Years[::-1]\n",
    "Years"
   ]
  },
  {
   "cell_type": "code",
   "execution_count": null,
   "metadata": {
    "id": "INoxY_3eZxHW"
   },
   "outputs": [],
   "source": [
    "import matplotlib.pyplot as plt\n",
    "\n",
    "plt.subplot(2,3,1)\n",
    "plt.plot(Years,Entertainment)\n",
    "plt.xlabel('Years')\n",
    "plt.ylabel('Sentiment')\n",
    "plt.title('Entertainment')\n",
    "\n",
    "plt.subplot(2,3,2)\n",
    "plt.plot(Years,Comedy)\n",
    "plt.xlabel('Years')\n",
    "plt.ylabel('Sentiment')\n",
    "plt.title('Comedy')\n",
    "\n",
    "plt.subplot(2,3,3)\n",
    "plt.plot(Years,Travel)\n",
    "plt.xlabel('Years')\n",
    "plt.ylabel('Sentiment')\n",
    "plt.title('Travel')\n",
    "\n",
    "plt.subplot(2,3,4)\n",
    "plt.plot(Years,Sports)\n",
    "plt.xlabel('Years')\n",
    "plt.ylabel('Sentiment')\n",
    "plt.title('Sports')\n",
    "\n",
    "plt.subplot(2,3,5)\n",
    "plt.plot(Years,Business)\n",
    "plt.xlabel('Years')\n",
    "plt.ylabel('Sentiment')\n",
    "plt.title('Business')\n",
    "\n",
    "plt.subplot(2,3,6)\n",
    "plt.plot(Years,Crime)\n",
    "plt.xlabel('Years')\n",
    "plt.ylabel('Sentiment')\n",
    "plt.title('Crime')"
   ]
  }
 ],
 "metadata": {
  "colab": {
   "provenance": []
  },
  "kernelspec": {
   "display_name": "Python 3",
   "language": "python",
   "name": "python3"
  },
  "language_info": {
   "codemirror_mode": {
    "name": "ipython",
    "version": 3
   },
   "file_extension": ".py",
   "mimetype": "text/x-python",
   "name": "python",
   "nbconvert_exporter": "python",
   "pygments_lexer": "ipython3",
   "version": "3.7.6"
  },
  "widgets": {
   "application/vnd.jupyter.widget-state+json": {
    "04dadd1d405541fcbe967bb45a0f91b3": {
     "model_module": "@jupyter-widgets/controls",
     "model_module_version": "1.5.0",
     "model_name": "DescriptionStyleModel",
     "state": {
      "_model_module": "@jupyter-widgets/controls",
      "_model_module_version": "1.5.0",
      "_model_name": "DescriptionStyleModel",
      "_view_count": null,
      "_view_module": "@jupyter-widgets/base",
      "_view_module_version": "1.2.0",
      "_view_name": "StyleView",
      "description_width": ""
     }
    },
    "168594edecea4e5c8c64e32a5481560f": {
     "model_module": "@jupyter-widgets/base",
     "model_module_version": "1.2.0",
     "model_name": "LayoutModel",
     "state": {
      "_model_module": "@jupyter-widgets/base",
      "_model_module_version": "1.2.0",
      "_model_name": "LayoutModel",
      "_view_count": null,
      "_view_module": "@jupyter-widgets/base",
      "_view_module_version": "1.2.0",
      "_view_name": "LayoutView",
      "align_content": null,
      "align_items": null,
      "align_self": null,
      "border": null,
      "bottom": null,
      "display": null,
      "flex": null,
      "flex_flow": null,
      "grid_area": null,
      "grid_auto_columns": null,
      "grid_auto_flow": null,
      "grid_auto_rows": null,
      "grid_column": null,
      "grid_gap": null,
      "grid_row": null,
      "grid_template_areas": null,
      "grid_template_columns": null,
      "grid_template_rows": null,
      "height": null,
      "justify_content": null,
      "justify_items": null,
      "left": null,
      "margin": null,
      "max_height": null,
      "max_width": null,
      "min_height": null,
      "min_width": null,
      "object_fit": null,
      "object_position": null,
      "order": null,
      "overflow": null,
      "overflow_x": null,
      "overflow_y": null,
      "padding": null,
      "right": null,
      "top": null,
      "visibility": null,
      "width": null
     }
    },
    "289a0cd8cc0c4459b57517cfdac50c5b": {
     "model_module": "@jupyter-widgets/controls",
     "model_module_version": "1.5.0",
     "model_name": "ProgressStyleModel",
     "state": {
      "_model_module": "@jupyter-widgets/controls",
      "_model_module_version": "1.5.0",
      "_model_name": "ProgressStyleModel",
      "_view_count": null,
      "_view_module": "@jupyter-widgets/base",
      "_view_module_version": "1.2.0",
      "_view_name": "StyleView",
      "bar_color": null,
      "description_width": ""
     }
    },
    "2eca3cc426234802b23bc9b50d82cbd3": {
     "model_module": "@jupyter-widgets/base",
     "model_module_version": "1.2.0",
     "model_name": "LayoutModel",
     "state": {
      "_model_module": "@jupyter-widgets/base",
      "_model_module_version": "1.2.0",
      "_model_name": "LayoutModel",
      "_view_count": null,
      "_view_module": "@jupyter-widgets/base",
      "_view_module_version": "1.2.0",
      "_view_name": "LayoutView",
      "align_content": null,
      "align_items": null,
      "align_self": null,
      "border": null,
      "bottom": null,
      "display": null,
      "flex": null,
      "flex_flow": null,
      "grid_area": null,
      "grid_auto_columns": null,
      "grid_auto_flow": null,
      "grid_auto_rows": null,
      "grid_column": null,
      "grid_gap": null,
      "grid_row": null,
      "grid_template_areas": null,
      "grid_template_columns": null,
      "grid_template_rows": null,
      "height": null,
      "justify_content": null,
      "justify_items": null,
      "left": null,
      "margin": null,
      "max_height": null,
      "max_width": null,
      "min_height": null,
      "min_width": null,
      "object_fit": null,
      "object_position": null,
      "order": null,
      "overflow": null,
      "overflow_x": null,
      "overflow_y": null,
      "padding": null,
      "right": null,
      "top": null,
      "visibility": null,
      "width": null
     }
    },
    "302f4fc3b18144de87da095c12ae9b43": {
     "model_module": "@jupyter-widgets/controls",
     "model_module_version": "1.5.0",
     "model_name": "DescriptionStyleModel",
     "state": {
      "_model_module": "@jupyter-widgets/controls",
      "_model_module_version": "1.5.0",
      "_model_name": "DescriptionStyleModel",
      "_view_count": null,
      "_view_module": "@jupyter-widgets/base",
      "_view_module_version": "1.2.0",
      "_view_name": "StyleView",
      "description_width": ""
     }
    },
    "31b938a265f9464c9227fed79d60c198": {
     "model_module": "@jupyter-widgets/base",
     "model_module_version": "1.2.0",
     "model_name": "LayoutModel",
     "state": {
      "_model_module": "@jupyter-widgets/base",
      "_model_module_version": "1.2.0",
      "_model_name": "LayoutModel",
      "_view_count": null,
      "_view_module": "@jupyter-widgets/base",
      "_view_module_version": "1.2.0",
      "_view_name": "LayoutView",
      "align_content": null,
      "align_items": null,
      "align_self": null,
      "border": null,
      "bottom": null,
      "display": null,
      "flex": null,
      "flex_flow": null,
      "grid_area": null,
      "grid_auto_columns": null,
      "grid_auto_flow": null,
      "grid_auto_rows": null,
      "grid_column": null,
      "grid_gap": null,
      "grid_row": null,
      "grid_template_areas": null,
      "grid_template_columns": null,
      "grid_template_rows": null,
      "height": null,
      "justify_content": null,
      "justify_items": null,
      "left": null,
      "margin": null,
      "max_height": null,
      "max_width": null,
      "min_height": null,
      "min_width": null,
      "object_fit": null,
      "object_position": null,
      "order": null,
      "overflow": null,
      "overflow_x": null,
      "overflow_y": null,
      "padding": null,
      "right": null,
      "top": null,
      "visibility": null,
      "width": null
     }
    },
    "36f612dff6124ad4b7f9d21e8b5b88c4": {
     "model_module": "@jupyter-widgets/controls",
     "model_module_version": "1.5.0",
     "model_name": "DescriptionStyleModel",
     "state": {
      "_model_module": "@jupyter-widgets/controls",
      "_model_module_version": "1.5.0",
      "_model_name": "DescriptionStyleModel",
      "_view_count": null,
      "_view_module": "@jupyter-widgets/base",
      "_view_module_version": "1.2.0",
      "_view_name": "StyleView",
      "description_width": ""
     }
    },
    "3b4f5402b8c44ea3bc11b16633d375fa": {
     "model_module": "@jupyter-widgets/base",
     "model_module_version": "1.2.0",
     "model_name": "LayoutModel",
     "state": {
      "_model_module": "@jupyter-widgets/base",
      "_model_module_version": "1.2.0",
      "_model_name": "LayoutModel",
      "_view_count": null,
      "_view_module": "@jupyter-widgets/base",
      "_view_module_version": "1.2.0",
      "_view_name": "LayoutView",
      "align_content": null,
      "align_items": null,
      "align_self": null,
      "border": null,
      "bottom": null,
      "display": null,
      "flex": null,
      "flex_flow": null,
      "grid_area": null,
      "grid_auto_columns": null,
      "grid_auto_flow": null,
      "grid_auto_rows": null,
      "grid_column": null,
      "grid_gap": null,
      "grid_row": null,
      "grid_template_areas": null,
      "grid_template_columns": null,
      "grid_template_rows": null,
      "height": null,
      "justify_content": null,
      "justify_items": null,
      "left": null,
      "margin": null,
      "max_height": null,
      "max_width": null,
      "min_height": null,
      "min_width": null,
      "object_fit": null,
      "object_position": null,
      "order": null,
      "overflow": null,
      "overflow_x": null,
      "overflow_y": null,
      "padding": null,
      "right": null,
      "top": null,
      "visibility": null,
      "width": null
     }
    },
    "4082a5487fa94251b28073288a04b38f": {
     "model_module": "@jupyter-widgets/base",
     "model_module_version": "1.2.0",
     "model_name": "LayoutModel",
     "state": {
      "_model_module": "@jupyter-widgets/base",
      "_model_module_version": "1.2.0",
      "_model_name": "LayoutModel",
      "_view_count": null,
      "_view_module": "@jupyter-widgets/base",
      "_view_module_version": "1.2.0",
      "_view_name": "LayoutView",
      "align_content": null,
      "align_items": null,
      "align_self": null,
      "border": null,
      "bottom": null,
      "display": null,
      "flex": null,
      "flex_flow": null,
      "grid_area": null,
      "grid_auto_columns": null,
      "grid_auto_flow": null,
      "grid_auto_rows": null,
      "grid_column": null,
      "grid_gap": null,
      "grid_row": null,
      "grid_template_areas": null,
      "grid_template_columns": null,
      "grid_template_rows": null,
      "height": null,
      "justify_content": null,
      "justify_items": null,
      "left": null,
      "margin": null,
      "max_height": null,
      "max_width": null,
      "min_height": null,
      "min_width": null,
      "object_fit": null,
      "object_position": null,
      "order": null,
      "overflow": null,
      "overflow_x": null,
      "overflow_y": null,
      "padding": null,
      "right": null,
      "top": null,
      "visibility": null,
      "width": null
     }
    },
    "4ba235853df84cd1ba7ef91fa330ff9c": {
     "model_module": "@jupyter-widgets/controls",
     "model_module_version": "1.5.0",
     "model_name": "HTMLModel",
     "state": {
      "_dom_classes": [],
      "_model_module": "@jupyter-widgets/controls",
      "_model_module_version": "1.5.0",
      "_model_name": "HTMLModel",
      "_view_count": null,
      "_view_module": "@jupyter-widgets/controls",
      "_view_module_version": "1.5.0",
      "_view_name": "HTMLView",
      "description": "",
      "description_tooltip": null,
      "layout": "IPY_MODEL_2eca3cc426234802b23bc9b50d82cbd3",
      "placeholder": "​",
      "style": "IPY_MODEL_36f612dff6124ad4b7f9d21e8b5b88c4",
      "value": " 232k/232k [00:00&lt;00:00, 1.72MB/s]"
     }
    },
    "4c511093081e413d96173e9e2238754c": {
     "model_module": "@jupyter-widgets/controls",
     "model_module_version": "1.5.0",
     "model_name": "ProgressStyleModel",
     "state": {
      "_model_module": "@jupyter-widgets/controls",
      "_model_module_version": "1.5.0",
      "_model_name": "ProgressStyleModel",
      "_view_count": null,
      "_view_module": "@jupyter-widgets/base",
      "_view_module_version": "1.2.0",
      "_view_name": "StyleView",
      "bar_color": null,
      "description_width": ""
     }
    },
    "4e5de4f664b9465bb4f2a71ded1496ad": {
     "model_module": "@jupyter-widgets/base",
     "model_module_version": "1.2.0",
     "model_name": "LayoutModel",
     "state": {
      "_model_module": "@jupyter-widgets/base",
      "_model_module_version": "1.2.0",
      "_model_name": "LayoutModel",
      "_view_count": null,
      "_view_module": "@jupyter-widgets/base",
      "_view_module_version": "1.2.0",
      "_view_name": "LayoutView",
      "align_content": null,
      "align_items": null,
      "align_self": null,
      "border": null,
      "bottom": null,
      "display": null,
      "flex": null,
      "flex_flow": null,
      "grid_area": null,
      "grid_auto_columns": null,
      "grid_auto_flow": null,
      "grid_auto_rows": null,
      "grid_column": null,
      "grid_gap": null,
      "grid_row": null,
      "grid_template_areas": null,
      "grid_template_columns": null,
      "grid_template_rows": null,
      "height": null,
      "justify_content": null,
      "justify_items": null,
      "left": null,
      "margin": null,
      "max_height": null,
      "max_width": null,
      "min_height": null,
      "min_width": null,
      "object_fit": null,
      "object_position": null,
      "order": null,
      "overflow": null,
      "overflow_x": null,
      "overflow_y": null,
      "padding": null,
      "right": null,
      "top": null,
      "visibility": null,
      "width": null
     }
    },
    "54a9b9a5382c4512a879cc1453c5e864": {
     "model_module": "@jupyter-widgets/controls",
     "model_module_version": "1.5.0",
     "model_name": "HBoxModel",
     "state": {
      "_dom_classes": [],
      "_model_module": "@jupyter-widgets/controls",
      "_model_module_version": "1.5.0",
      "_model_name": "HBoxModel",
      "_view_count": null,
      "_view_module": "@jupyter-widgets/controls",
      "_view_module_version": "1.5.0",
      "_view_name": "HBoxView",
      "box_style": "",
      "children": [
       "IPY_MODEL_95df13dbd3c640fc9191efcde06b9689",
       "IPY_MODEL_bc8aa17bf06d4fa7aded10d9d64612cd",
       "IPY_MODEL_bc1c02caebef4fecb60f1629abfcbf08"
      ],
      "layout": "IPY_MODEL_7c3a309cc43448ed8611586454876464"
     }
    },
    "55252aabce824549a96294a90ee57820": {
     "model_module": "@jupyter-widgets/controls",
     "model_module_version": "1.5.0",
     "model_name": "HTMLModel",
     "state": {
      "_dom_classes": [],
      "_model_module": "@jupyter-widgets/controls",
      "_model_module_version": "1.5.0",
      "_model_name": "HTMLModel",
      "_view_count": null,
      "_view_module": "@jupyter-widgets/controls",
      "_view_module_version": "1.5.0",
      "_view_name": "HTMLView",
      "description": "",
      "description_tooltip": null,
      "layout": "IPY_MODEL_fc1d64342a2c45148315a787d06fa396",
      "placeholder": "​",
      "style": "IPY_MODEL_04dadd1d405541fcbe967bb45a0f91b3",
      "value": "vocab.txt: 100%"
     }
    },
    "57e8325af16b44a7b63e811c04105f15": {
     "model_module": "@jupyter-widgets/controls",
     "model_module_version": "1.5.0",
     "model_name": "DescriptionStyleModel",
     "state": {
      "_model_module": "@jupyter-widgets/controls",
      "_model_module_version": "1.5.0",
      "_model_name": "DescriptionStyleModel",
      "_view_count": null,
      "_view_module": "@jupyter-widgets/base",
      "_view_module_version": "1.2.0",
      "_view_name": "StyleView",
      "description_width": ""
     }
    },
    "57f8666102854f61a7c14868074b6bd3": {
     "model_module": "@jupyter-widgets/controls",
     "model_module_version": "1.5.0",
     "model_name": "DescriptionStyleModel",
     "state": {
      "_model_module": "@jupyter-widgets/controls",
      "_model_module_version": "1.5.0",
      "_model_name": "DescriptionStyleModel",
      "_view_count": null,
      "_view_module": "@jupyter-widgets/base",
      "_view_module_version": "1.2.0",
      "_view_name": "StyleView",
      "description_width": ""
     }
    },
    "6b0c79e3b4de491892d89fe535dfb41c": {
     "model_module": "@jupyter-widgets/base",
     "model_module_version": "1.2.0",
     "model_name": "LayoutModel",
     "state": {
      "_model_module": "@jupyter-widgets/base",
      "_model_module_version": "1.2.0",
      "_model_name": "LayoutModel",
      "_view_count": null,
      "_view_module": "@jupyter-widgets/base",
      "_view_module_version": "1.2.0",
      "_view_name": "LayoutView",
      "align_content": null,
      "align_items": null,
      "align_self": null,
      "border": null,
      "bottom": null,
      "display": null,
      "flex": null,
      "flex_flow": null,
      "grid_area": null,
      "grid_auto_columns": null,
      "grid_auto_flow": null,
      "grid_auto_rows": null,
      "grid_column": null,
      "grid_gap": null,
      "grid_row": null,
      "grid_template_areas": null,
      "grid_template_columns": null,
      "grid_template_rows": null,
      "height": null,
      "justify_content": null,
      "justify_items": null,
      "left": null,
      "margin": null,
      "max_height": null,
      "max_width": null,
      "min_height": null,
      "min_width": null,
      "object_fit": null,
      "object_position": null,
      "order": null,
      "overflow": null,
      "overflow_x": null,
      "overflow_y": null,
      "padding": null,
      "right": null,
      "top": null,
      "visibility": null,
      "width": null
     }
    },
    "6b424054ae8e4507968defdbfac65ff2": {
     "model_module": "@jupyter-widgets/controls",
     "model_module_version": "1.5.0",
     "model_name": "FloatProgressModel",
     "state": {
      "_dom_classes": [],
      "_model_module": "@jupyter-widgets/controls",
      "_model_module_version": "1.5.0",
      "_model_name": "FloatProgressModel",
      "_view_count": null,
      "_view_module": "@jupyter-widgets/controls",
      "_view_module_version": "1.5.0",
      "_view_name": "ProgressView",
      "bar_style": "success",
      "description": "",
      "description_tooltip": null,
      "layout": "IPY_MODEL_3b4f5402b8c44ea3bc11b16633d375fa",
      "max": 267832558,
      "min": 0,
      "orientation": "horizontal",
      "style": "IPY_MODEL_289a0cd8cc0c4459b57517cfdac50c5b",
      "value": 267832558
     }
    },
    "76c7c534a2264217b8e2fd127baa1a22": {
     "model_module": "@jupyter-widgets/controls",
     "model_module_version": "1.5.0",
     "model_name": "DescriptionStyleModel",
     "state": {
      "_model_module": "@jupyter-widgets/controls",
      "_model_module_version": "1.5.0",
      "_model_name": "DescriptionStyleModel",
      "_view_count": null,
      "_view_module": "@jupyter-widgets/base",
      "_view_module_version": "1.2.0",
      "_view_name": "StyleView",
      "description_width": ""
     }
    },
    "7c3a309cc43448ed8611586454876464": {
     "model_module": "@jupyter-widgets/base",
     "model_module_version": "1.2.0",
     "model_name": "LayoutModel",
     "state": {
      "_model_module": "@jupyter-widgets/base",
      "_model_module_version": "1.2.0",
      "_model_name": "LayoutModel",
      "_view_count": null,
      "_view_module": "@jupyter-widgets/base",
      "_view_module_version": "1.2.0",
      "_view_name": "LayoutView",
      "align_content": null,
      "align_items": null,
      "align_self": null,
      "border": null,
      "bottom": null,
      "display": null,
      "flex": null,
      "flex_flow": null,
      "grid_area": null,
      "grid_auto_columns": null,
      "grid_auto_flow": null,
      "grid_auto_rows": null,
      "grid_column": null,
      "grid_gap": null,
      "grid_row": null,
      "grid_template_areas": null,
      "grid_template_columns": null,
      "grid_template_rows": null,
      "height": null,
      "justify_content": null,
      "justify_items": null,
      "left": null,
      "margin": null,
      "max_height": null,
      "max_width": null,
      "min_height": null,
      "min_width": null,
      "object_fit": null,
      "object_position": null,
      "order": null,
      "overflow": null,
      "overflow_x": null,
      "overflow_y": null,
      "padding": null,
      "right": null,
      "top": null,
      "visibility": null,
      "width": null
     }
    },
    "7cfb08677db14d94a2e9019eff689c42": {
     "model_module": "@jupyter-widgets/controls",
     "model_module_version": "1.5.0",
     "model_name": "HBoxModel",
     "state": {
      "_dom_classes": [],
      "_model_module": "@jupyter-widgets/controls",
      "_model_module_version": "1.5.0",
      "_model_name": "HBoxModel",
      "_view_count": null,
      "_view_module": "@jupyter-widgets/controls",
      "_view_module_version": "1.5.0",
      "_view_name": "HBoxView",
      "box_style": "",
      "children": [
       "IPY_MODEL_bd6139695ce4417ca63f30d3ddb76700",
       "IPY_MODEL_8cac199e115f4477be8649c5a68609e6",
       "IPY_MODEL_dcd16c8d87e94c1c8e75b57d26a34670"
      ],
      "layout": "IPY_MODEL_168594edecea4e5c8c64e32a5481560f"
     }
    },
    "843fe1511b4f4637925436f9f886c1b6": {
     "model_module": "@jupyter-widgets/base",
     "model_module_version": "1.2.0",
     "model_name": "LayoutModel",
     "state": {
      "_model_module": "@jupyter-widgets/base",
      "_model_module_version": "1.2.0",
      "_model_name": "LayoutModel",
      "_view_count": null,
      "_view_module": "@jupyter-widgets/base",
      "_view_module_version": "1.2.0",
      "_view_name": "LayoutView",
      "align_content": null,
      "align_items": null,
      "align_self": null,
      "border": null,
      "bottom": null,
      "display": null,
      "flex": null,
      "flex_flow": null,
      "grid_area": null,
      "grid_auto_columns": null,
      "grid_auto_flow": null,
      "grid_auto_rows": null,
      "grid_column": null,
      "grid_gap": null,
      "grid_row": null,
      "grid_template_areas": null,
      "grid_template_columns": null,
      "grid_template_rows": null,
      "height": null,
      "justify_content": null,
      "justify_items": null,
      "left": null,
      "margin": null,
      "max_height": null,
      "max_width": null,
      "min_height": null,
      "min_width": null,
      "object_fit": null,
      "object_position": null,
      "order": null,
      "overflow": null,
      "overflow_x": null,
      "overflow_y": null,
      "padding": null,
      "right": null,
      "top": null,
      "visibility": null,
      "width": null
     }
    },
    "8c868263e0b347208052a6e3886a729f": {
     "model_module": "@jupyter-widgets/controls",
     "model_module_version": "1.5.0",
     "model_name": "HTMLModel",
     "state": {
      "_dom_classes": [],
      "_model_module": "@jupyter-widgets/controls",
      "_model_module_version": "1.5.0",
      "_model_name": "HTMLModel",
      "_view_count": null,
      "_view_module": "@jupyter-widgets/controls",
      "_view_module_version": "1.5.0",
      "_view_name": "HTMLView",
      "description": "",
      "description_tooltip": null,
      "layout": "IPY_MODEL_843fe1511b4f4637925436f9f886c1b6",
      "placeholder": "​",
      "style": "IPY_MODEL_c45c3cb1cae14a869b973aeeea4458c5",
      "value": "model.safetensors: 100%"
     }
    },
    "8cac199e115f4477be8649c5a68609e6": {
     "model_module": "@jupyter-widgets/controls",
     "model_module_version": "1.5.0",
     "model_name": "FloatProgressModel",
     "state": {
      "_dom_classes": [],
      "_model_module": "@jupyter-widgets/controls",
      "_model_module_version": "1.5.0",
      "_model_name": "FloatProgressModel",
      "_view_count": null,
      "_view_module": "@jupyter-widgets/controls",
      "_view_module_version": "1.5.0",
      "_view_name": "ProgressView",
      "bar_style": "success",
      "description": "",
      "description_tooltip": null,
      "layout": "IPY_MODEL_b72e6bb098d94455b0568677b92cb30c",
      "max": 629,
      "min": 0,
      "orientation": "horizontal",
      "style": "IPY_MODEL_8e31971626664cb1835891c1a9fc5f4d",
      "value": 629
     }
    },
    "8e31971626664cb1835891c1a9fc5f4d": {
     "model_module": "@jupyter-widgets/controls",
     "model_module_version": "1.5.0",
     "model_name": "ProgressStyleModel",
     "state": {
      "_model_module": "@jupyter-widgets/controls",
      "_model_module_version": "1.5.0",
      "_model_name": "ProgressStyleModel",
      "_view_count": null,
      "_view_module": "@jupyter-widgets/base",
      "_view_module_version": "1.2.0",
      "_view_name": "StyleView",
      "bar_color": null,
      "description_width": ""
     }
    },
    "8f333fce57e8428998db23a08bcdd166": {
     "model_module": "@jupyter-widgets/controls",
     "model_module_version": "1.5.0",
     "model_name": "ProgressStyleModel",
     "state": {
      "_model_module": "@jupyter-widgets/controls",
      "_model_module_version": "1.5.0",
      "_model_name": "ProgressStyleModel",
      "_view_count": null,
      "_view_module": "@jupyter-widgets/base",
      "_view_module_version": "1.2.0",
      "_view_name": "StyleView",
      "bar_color": null,
      "description_width": ""
     }
    },
    "9458a2cfc33a4aeaa8d97f38d6a43c76": {
     "model_module": "@jupyter-widgets/controls",
     "model_module_version": "1.5.0",
     "model_name": "FloatProgressModel",
     "state": {
      "_dom_classes": [],
      "_model_module": "@jupyter-widgets/controls",
      "_model_module_version": "1.5.0",
      "_model_name": "FloatProgressModel",
      "_view_count": null,
      "_view_module": "@jupyter-widgets/controls",
      "_view_module_version": "1.5.0",
      "_view_name": "ProgressView",
      "bar_style": "success",
      "description": "",
      "description_tooltip": null,
      "layout": "IPY_MODEL_d8201d2f161740ab985262bb8e410a34",
      "max": 231508,
      "min": 0,
      "orientation": "horizontal",
      "style": "IPY_MODEL_4c511093081e413d96173e9e2238754c",
      "value": 231508
     }
    },
    "946a123c1ba244e2ad5a5b86ea49891f": {
     "model_module": "@jupyter-widgets/base",
     "model_module_version": "1.2.0",
     "model_name": "LayoutModel",
     "state": {
      "_model_module": "@jupyter-widgets/base",
      "_model_module_version": "1.2.0",
      "_model_name": "LayoutModel",
      "_view_count": null,
      "_view_module": "@jupyter-widgets/base",
      "_view_module_version": "1.2.0",
      "_view_name": "LayoutView",
      "align_content": null,
      "align_items": null,
      "align_self": null,
      "border": null,
      "bottom": null,
      "display": null,
      "flex": null,
      "flex_flow": null,
      "grid_area": null,
      "grid_auto_columns": null,
      "grid_auto_flow": null,
      "grid_auto_rows": null,
      "grid_column": null,
      "grid_gap": null,
      "grid_row": null,
      "grid_template_areas": null,
      "grid_template_columns": null,
      "grid_template_rows": null,
      "height": null,
      "justify_content": null,
      "justify_items": null,
      "left": null,
      "margin": null,
      "max_height": null,
      "max_width": null,
      "min_height": null,
      "min_width": null,
      "object_fit": null,
      "object_position": null,
      "order": null,
      "overflow": null,
      "overflow_x": null,
      "overflow_y": null,
      "padding": null,
      "right": null,
      "top": null,
      "visibility": null,
      "width": null
     }
    },
    "95df13dbd3c640fc9191efcde06b9689": {
     "model_module": "@jupyter-widgets/controls",
     "model_module_version": "1.5.0",
     "model_name": "HTMLModel",
     "state": {
      "_dom_classes": [],
      "_model_module": "@jupyter-widgets/controls",
      "_model_module_version": "1.5.0",
      "_model_name": "HTMLModel",
      "_view_count": null,
      "_view_module": "@jupyter-widgets/controls",
      "_view_module_version": "1.5.0",
      "_view_name": "HTMLView",
      "description": "",
      "description_tooltip": null,
      "layout": "IPY_MODEL_4082a5487fa94251b28073288a04b38f",
      "placeholder": "​",
      "style": "IPY_MODEL_ebcac56a1ad3400bbd7241351dd748c1",
      "value": "tokenizer_config.json: 100%"
     }
    },
    "9886e82a98e2424cb97d0830cfe4b831": {
     "model_module": "@jupyter-widgets/base",
     "model_module_version": "1.2.0",
     "model_name": "LayoutModel",
     "state": {
      "_model_module": "@jupyter-widgets/base",
      "_model_module_version": "1.2.0",
      "_model_name": "LayoutModel",
      "_view_count": null,
      "_view_module": "@jupyter-widgets/base",
      "_view_module_version": "1.2.0",
      "_view_name": "LayoutView",
      "align_content": null,
      "align_items": null,
      "align_self": null,
      "border": null,
      "bottom": null,
      "display": null,
      "flex": null,
      "flex_flow": null,
      "grid_area": null,
      "grid_auto_columns": null,
      "grid_auto_flow": null,
      "grid_auto_rows": null,
      "grid_column": null,
      "grid_gap": null,
      "grid_row": null,
      "grid_template_areas": null,
      "grid_template_columns": null,
      "grid_template_rows": null,
      "height": null,
      "justify_content": null,
      "justify_items": null,
      "left": null,
      "margin": null,
      "max_height": null,
      "max_width": null,
      "min_height": null,
      "min_width": null,
      "object_fit": null,
      "object_position": null,
      "order": null,
      "overflow": null,
      "overflow_x": null,
      "overflow_y": null,
      "padding": null,
      "right": null,
      "top": null,
      "visibility": null,
      "width": null
     }
    },
    "b1f112686bb8453eb471ebea1b3bf7a7": {
     "model_module": "@jupyter-widgets/controls",
     "model_module_version": "1.5.0",
     "model_name": "HBoxModel",
     "state": {
      "_dom_classes": [],
      "_model_module": "@jupyter-widgets/controls",
      "_model_module_version": "1.5.0",
      "_model_name": "HBoxModel",
      "_view_count": null,
      "_view_module": "@jupyter-widgets/controls",
      "_view_module_version": "1.5.0",
      "_view_name": "HBoxView",
      "box_style": "",
      "children": [
       "IPY_MODEL_55252aabce824549a96294a90ee57820",
       "IPY_MODEL_9458a2cfc33a4aeaa8d97f38d6a43c76",
       "IPY_MODEL_4ba235853df84cd1ba7ef91fa330ff9c"
      ],
      "layout": "IPY_MODEL_9886e82a98e2424cb97d0830cfe4b831"
     }
    },
    "b72e6bb098d94455b0568677b92cb30c": {
     "model_module": "@jupyter-widgets/base",
     "model_module_version": "1.2.0",
     "model_name": "LayoutModel",
     "state": {
      "_model_module": "@jupyter-widgets/base",
      "_model_module_version": "1.2.0",
      "_model_name": "LayoutModel",
      "_view_count": null,
      "_view_module": "@jupyter-widgets/base",
      "_view_module_version": "1.2.0",
      "_view_name": "LayoutView",
      "align_content": null,
      "align_items": null,
      "align_self": null,
      "border": null,
      "bottom": null,
      "display": null,
      "flex": null,
      "flex_flow": null,
      "grid_area": null,
      "grid_auto_columns": null,
      "grid_auto_flow": null,
      "grid_auto_rows": null,
      "grid_column": null,
      "grid_gap": null,
      "grid_row": null,
      "grid_template_areas": null,
      "grid_template_columns": null,
      "grid_template_rows": null,
      "height": null,
      "justify_content": null,
      "justify_items": null,
      "left": null,
      "margin": null,
      "max_height": null,
      "max_width": null,
      "min_height": null,
      "min_width": null,
      "object_fit": null,
      "object_position": null,
      "order": null,
      "overflow": null,
      "overflow_x": null,
      "overflow_y": null,
      "padding": null,
      "right": null,
      "top": null,
      "visibility": null,
      "width": null
     }
    },
    "bc1c02caebef4fecb60f1629abfcbf08": {
     "model_module": "@jupyter-widgets/controls",
     "model_module_version": "1.5.0",
     "model_name": "HTMLModel",
     "state": {
      "_dom_classes": [],
      "_model_module": "@jupyter-widgets/controls",
      "_model_module_version": "1.5.0",
      "_model_name": "HTMLModel",
      "_view_count": null,
      "_view_module": "@jupyter-widgets/controls",
      "_view_module_version": "1.5.0",
      "_view_name": "HTMLView",
      "description": "",
      "description_tooltip": null,
      "layout": "IPY_MODEL_d8bb976b9b884bc18844f92112910117",
      "placeholder": "​",
      "style": "IPY_MODEL_76c7c534a2264217b8e2fd127baa1a22",
      "value": " 48.0/48.0 [00:00&lt;00:00, 745B/s]"
     }
    },
    "bc8aa17bf06d4fa7aded10d9d64612cd": {
     "model_module": "@jupyter-widgets/controls",
     "model_module_version": "1.5.0",
     "model_name": "FloatProgressModel",
     "state": {
      "_dom_classes": [],
      "_model_module": "@jupyter-widgets/controls",
      "_model_module_version": "1.5.0",
      "_model_name": "FloatProgressModel",
      "_view_count": null,
      "_view_module": "@jupyter-widgets/controls",
      "_view_module_version": "1.5.0",
      "_view_name": "ProgressView",
      "bar_style": "success",
      "description": "",
      "description_tooltip": null,
      "layout": "IPY_MODEL_d9bb42f06cec43e69bb46faa876b9171",
      "max": 48,
      "min": 0,
      "orientation": "horizontal",
      "style": "IPY_MODEL_8f333fce57e8428998db23a08bcdd166",
      "value": 48
     }
    },
    "bd6139695ce4417ca63f30d3ddb76700": {
     "model_module": "@jupyter-widgets/controls",
     "model_module_version": "1.5.0",
     "model_name": "HTMLModel",
     "state": {
      "_dom_classes": [],
      "_model_module": "@jupyter-widgets/controls",
      "_model_module_version": "1.5.0",
      "_model_name": "HTMLModel",
      "_view_count": null,
      "_view_module": "@jupyter-widgets/controls",
      "_view_module_version": "1.5.0",
      "_view_name": "HTMLView",
      "description": "",
      "description_tooltip": null,
      "layout": "IPY_MODEL_6b0c79e3b4de491892d89fe535dfb41c",
      "placeholder": "​",
      "style": "IPY_MODEL_57f8666102854f61a7c14868074b6bd3",
      "value": "config.json: 100%"
     }
    },
    "bdadab091e5c458fbf44b9c83746a37b": {
     "model_module": "@jupyter-widgets/controls",
     "model_module_version": "1.5.0",
     "model_name": "HTMLModel",
     "state": {
      "_dom_classes": [],
      "_model_module": "@jupyter-widgets/controls",
      "_model_module_version": "1.5.0",
      "_model_name": "HTMLModel",
      "_view_count": null,
      "_view_module": "@jupyter-widgets/controls",
      "_view_module_version": "1.5.0",
      "_view_name": "HTMLView",
      "description": "",
      "description_tooltip": null,
      "layout": "IPY_MODEL_31b938a265f9464c9227fed79d60c198",
      "placeholder": "​",
      "style": "IPY_MODEL_302f4fc3b18144de87da095c12ae9b43",
      "value": " 268M/268M [00:02&lt;00:00, 117MB/s]"
     }
    },
    "c45c3cb1cae14a869b973aeeea4458c5": {
     "model_module": "@jupyter-widgets/controls",
     "model_module_version": "1.5.0",
     "model_name": "DescriptionStyleModel",
     "state": {
      "_model_module": "@jupyter-widgets/controls",
      "_model_module_version": "1.5.0",
      "_model_name": "DescriptionStyleModel",
      "_view_count": null,
      "_view_module": "@jupyter-widgets/base",
      "_view_module_version": "1.2.0",
      "_view_name": "StyleView",
      "description_width": ""
     }
    },
    "d15e59faed8a4539b155e0ccb84d1d23": {
     "model_module": "@jupyter-widgets/controls",
     "model_module_version": "1.5.0",
     "model_name": "HBoxModel",
     "state": {
      "_dom_classes": [],
      "_model_module": "@jupyter-widgets/controls",
      "_model_module_version": "1.5.0",
      "_model_name": "HBoxModel",
      "_view_count": null,
      "_view_module": "@jupyter-widgets/controls",
      "_view_module_version": "1.5.0",
      "_view_name": "HBoxView",
      "box_style": "",
      "children": [
       "IPY_MODEL_8c868263e0b347208052a6e3886a729f",
       "IPY_MODEL_6b424054ae8e4507968defdbfac65ff2",
       "IPY_MODEL_bdadab091e5c458fbf44b9c83746a37b"
      ],
      "layout": "IPY_MODEL_946a123c1ba244e2ad5a5b86ea49891f"
     }
    },
    "d8201d2f161740ab985262bb8e410a34": {
     "model_module": "@jupyter-widgets/base",
     "model_module_version": "1.2.0",
     "model_name": "LayoutModel",
     "state": {
      "_model_module": "@jupyter-widgets/base",
      "_model_module_version": "1.2.0",
      "_model_name": "LayoutModel",
      "_view_count": null,
      "_view_module": "@jupyter-widgets/base",
      "_view_module_version": "1.2.0",
      "_view_name": "LayoutView",
      "align_content": null,
      "align_items": null,
      "align_self": null,
      "border": null,
      "bottom": null,
      "display": null,
      "flex": null,
      "flex_flow": null,
      "grid_area": null,
      "grid_auto_columns": null,
      "grid_auto_flow": null,
      "grid_auto_rows": null,
      "grid_column": null,
      "grid_gap": null,
      "grid_row": null,
      "grid_template_areas": null,
      "grid_template_columns": null,
      "grid_template_rows": null,
      "height": null,
      "justify_content": null,
      "justify_items": null,
      "left": null,
      "margin": null,
      "max_height": null,
      "max_width": null,
      "min_height": null,
      "min_width": null,
      "object_fit": null,
      "object_position": null,
      "order": null,
      "overflow": null,
      "overflow_x": null,
      "overflow_y": null,
      "padding": null,
      "right": null,
      "top": null,
      "visibility": null,
      "width": null
     }
    },
    "d8bb976b9b884bc18844f92112910117": {
     "model_module": "@jupyter-widgets/base",
     "model_module_version": "1.2.0",
     "model_name": "LayoutModel",
     "state": {
      "_model_module": "@jupyter-widgets/base",
      "_model_module_version": "1.2.0",
      "_model_name": "LayoutModel",
      "_view_count": null,
      "_view_module": "@jupyter-widgets/base",
      "_view_module_version": "1.2.0",
      "_view_name": "LayoutView",
      "align_content": null,
      "align_items": null,
      "align_self": null,
      "border": null,
      "bottom": null,
      "display": null,
      "flex": null,
      "flex_flow": null,
      "grid_area": null,
      "grid_auto_columns": null,
      "grid_auto_flow": null,
      "grid_auto_rows": null,
      "grid_column": null,
      "grid_gap": null,
      "grid_row": null,
      "grid_template_areas": null,
      "grid_template_columns": null,
      "grid_template_rows": null,
      "height": null,
      "justify_content": null,
      "justify_items": null,
      "left": null,
      "margin": null,
      "max_height": null,
      "max_width": null,
      "min_height": null,
      "min_width": null,
      "object_fit": null,
      "object_position": null,
      "order": null,
      "overflow": null,
      "overflow_x": null,
      "overflow_y": null,
      "padding": null,
      "right": null,
      "top": null,
      "visibility": null,
      "width": null
     }
    },
    "d9bb42f06cec43e69bb46faa876b9171": {
     "model_module": "@jupyter-widgets/base",
     "model_module_version": "1.2.0",
     "model_name": "LayoutModel",
     "state": {
      "_model_module": "@jupyter-widgets/base",
      "_model_module_version": "1.2.0",
      "_model_name": "LayoutModel",
      "_view_count": null,
      "_view_module": "@jupyter-widgets/base",
      "_view_module_version": "1.2.0",
      "_view_name": "LayoutView",
      "align_content": null,
      "align_items": null,
      "align_self": null,
      "border": null,
      "bottom": null,
      "display": null,
      "flex": null,
      "flex_flow": null,
      "grid_area": null,
      "grid_auto_columns": null,
      "grid_auto_flow": null,
      "grid_auto_rows": null,
      "grid_column": null,
      "grid_gap": null,
      "grid_row": null,
      "grid_template_areas": null,
      "grid_template_columns": null,
      "grid_template_rows": null,
      "height": null,
      "justify_content": null,
      "justify_items": null,
      "left": null,
      "margin": null,
      "max_height": null,
      "max_width": null,
      "min_height": null,
      "min_width": null,
      "object_fit": null,
      "object_position": null,
      "order": null,
      "overflow": null,
      "overflow_x": null,
      "overflow_y": null,
      "padding": null,
      "right": null,
      "top": null,
      "visibility": null,
      "width": null
     }
    },
    "dcd16c8d87e94c1c8e75b57d26a34670": {
     "model_module": "@jupyter-widgets/controls",
     "model_module_version": "1.5.0",
     "model_name": "HTMLModel",
     "state": {
      "_dom_classes": [],
      "_model_module": "@jupyter-widgets/controls",
      "_model_module_version": "1.5.0",
      "_model_name": "HTMLModel",
      "_view_count": null,
      "_view_module": "@jupyter-widgets/controls",
      "_view_module_version": "1.5.0",
      "_view_name": "HTMLView",
      "description": "",
      "description_tooltip": null,
      "layout": "IPY_MODEL_4e5de4f664b9465bb4f2a71ded1496ad",
      "placeholder": "​",
      "style": "IPY_MODEL_57e8325af16b44a7b63e811c04105f15",
      "value": " 629/629 [00:00&lt;00:00, 16.5kB/s]"
     }
    },
    "ebcac56a1ad3400bbd7241351dd748c1": {
     "model_module": "@jupyter-widgets/controls",
     "model_module_version": "1.5.0",
     "model_name": "DescriptionStyleModel",
     "state": {
      "_model_module": "@jupyter-widgets/controls",
      "_model_module_version": "1.5.0",
      "_model_name": "DescriptionStyleModel",
      "_view_count": null,
      "_view_module": "@jupyter-widgets/base",
      "_view_module_version": "1.2.0",
      "_view_name": "StyleView",
      "description_width": ""
     }
    },
    "fc1d64342a2c45148315a787d06fa396": {
     "model_module": "@jupyter-widgets/base",
     "model_module_version": "1.2.0",
     "model_name": "LayoutModel",
     "state": {
      "_model_module": "@jupyter-widgets/base",
      "_model_module_version": "1.2.0",
      "_model_name": "LayoutModel",
      "_view_count": null,
      "_view_module": "@jupyter-widgets/base",
      "_view_module_version": "1.2.0",
      "_view_name": "LayoutView",
      "align_content": null,
      "align_items": null,
      "align_self": null,
      "border": null,
      "bottom": null,
      "display": null,
      "flex": null,
      "flex_flow": null,
      "grid_area": null,
      "grid_auto_columns": null,
      "grid_auto_flow": null,
      "grid_auto_rows": null,
      "grid_column": null,
      "grid_gap": null,
      "grid_row": null,
      "grid_template_areas": null,
      "grid_template_columns": null,
      "grid_template_rows": null,
      "height": null,
      "justify_content": null,
      "justify_items": null,
      "left": null,
      "margin": null,
      "max_height": null,
      "max_width": null,
      "min_height": null,
      "min_width": null,
      "object_fit": null,
      "object_position": null,
      "order": null,
      "overflow": null,
      "overflow_x": null,
      "overflow_y": null,
      "padding": null,
      "right": null,
      "top": null,
      "visibility": null,
      "width": null
     }
    }
   }
  }
 },
 "nbformat": 4,
 "nbformat_minor": 1
}
